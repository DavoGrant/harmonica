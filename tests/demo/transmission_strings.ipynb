{
 "cells": [
  {
   "cell_type": "markdown",
   "id": "989e100c",
   "metadata": {},
   "source": [
    "## Intro to transmission strings\n",
    "\n",
    "A transit light curve encodes information about the size of a planet relative to the star around which it orbits. This fact enables the inference of the planet radius, $r_{\\rm{p}}$, which defines an occulting object with a circular shape.\n",
    "\n",
    "Here, we extend this measure of a planet's radius from a constant quantity to that of a one-dimensional function, $r_{\\rm{p}}(\\theta)$, hereafter refered to as a transmission string. This transmission string now encodes the possible variations with radius of a planet as a function of the angle $\\theta$ in the plane of the sky. This variation is borne out of change in transmission/opacity of a planet's atmosphere.\n",
    "\n",
    "We paramterise a transmission string in terms of a Fourier series, such that\n",
    "\n",
    "$$\n",
    "r_{\\rm{p}}(\\theta) = \\sum_{n=0}^{N} a_{n} \\cos{n \\theta} + \\sum_{n=1}^{N} b_{n} \\sin{n \\theta},\n",
    "$$\n",
    "\n",
    "where $N$ denotes the finite number of terms with coefficients $a_{n}$ and $b_{n}$. In harmonica a transmission string is constructed from a vector of these Fourier coefficients\n",
    "\n",
    "$$\n",
    "\\mathbf{r} = \\begin{bmatrix}\n",
    "           a_0\\, a_1\\, b_1\\, a_2\\, b_2\\, \\dots a_N\\, b_N  \\\\\n",
    "         \\end{bmatrix}^T.\\\\\n",
    "$$\n",
    "\n",
    "Note the number of coefficients must be odd, and in the limit of only one term the circular case is recovered. "
   ]
  },
  {
   "cell_type": "markdown",
   "id": "554b9bd0",
   "metadata": {},
   "source": [
    "For reference the first few Fourier terms have the following transmission strings:"
   ]
  },
  {
   "cell_type": "code",
   "execution_count": null,
   "id": "d295af00",
   "metadata": {},
   "outputs": [],
   "source": []
  },
  {
   "cell_type": "code",
   "execution_count": null,
   "id": "4fbcc739",
   "metadata": {},
   "outputs": [],
   "source": []
  },
  {
   "cell_type": "code",
   "execution_count": null,
   "id": "03a328bd",
   "metadata": {},
   "outputs": [],
   "source": []
  }
 ],
 "metadata": {
  "kernelspec": {
   "display_name": "py38-harmonica",
   "language": "python",
   "name": "py38-harmonica"
  },
  "language_info": {
   "codemirror_mode": {
    "name": "ipython",
    "version": 3
   },
   "file_extension": ".py",
   "mimetype": "text/x-python",
   "name": "python",
   "nbconvert_exporter": "python",
   "pygments_lexer": "ipython3",
   "version": "3.8.12"
  }
 },
 "nbformat": 4,
 "nbformat_minor": 5
}
