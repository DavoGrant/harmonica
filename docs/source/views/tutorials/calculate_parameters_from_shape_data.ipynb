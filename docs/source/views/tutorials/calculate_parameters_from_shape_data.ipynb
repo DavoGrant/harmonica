{
 "cells": [
  {
   "cell_type": "markdown",
   "id": "a5b4ae54",
   "metadata": {},
   "source": [
    "# Calculate Fourier parameters from shape data\n",
    "\n",
    "In this tutorial we take a look at how to..\n",
    "\n",
    "https://en.wikipedia.org/wiki/Fourier_series"
   ]
  },
  {
   "cell_type": "code",
   "execution_count": null,
   "id": "f93ac6c4",
   "metadata": {},
   "outputs": [],
   "source": []
  }
 ],
 "metadata": {
  "kernelspec": {
   "display_name": "Python 3 (ipykernel)",
   "language": "python",
   "name": "python3"
  },
  "language_info": {
   "codemirror_mode": {
    "name": "ipython",
    "version": 3
   },
   "file_extension": ".py",
   "mimetype": "text/x-python",
   "name": "python",
   "nbconvert_exporter": "python",
   "pygments_lexer": "ipython3",
   "version": "3.9.0"
  }
 },
 "nbformat": 4,
 "nbformat_minor": 5
}
